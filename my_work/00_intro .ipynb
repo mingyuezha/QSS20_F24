{
 "cells": [
  {
   "cell_type": "code",
   "execution_count": null,
   "id": "1873541f",
   "metadata": {},
   "outputs": [],
   "source": []
  },
  {
   "cell_type": "code",
   "execution_count": null,
   "id": "20949b09",
   "metadata": {},
   "outputs": [],
   "source": [
    "gend_height = df.groupby(['gender', 'race'].agg({'height':'mean'}).reset_index())\n",
    "# {'height': np.mean()}\n"
   ]
  },
  {
   "cell_type": "code",
   "execution_count": null,
   "id": "e68761ba",
   "metadata": {},
   "outputs": [],
   "source": [
    "df[['col1', 'col2']].apply(np.mean(), axis = 0)\n",
    "# axis 0 is across col\n",
    "# axis 1 is across row \n"
   ]
  },
  {
   "cell_type": "code",
   "execution_count": 5,
   "id": "96974853",
   "metadata": {},
   "outputs": [
    {
     "name": "stdout",
     "output_type": "stream",
     "text": [
      "5\n"
     ]
    }
   ],
   "source": [
    "f = lambda x, y: x+y\n",
    "print(f(2,3))\n"
   ]
  },
  {
   "cell_type": "code",
   "execution_count": null,
   "id": "2f4adc1f",
   "metadata": {},
   "outputs": [],
   "source": []
  },
  {
   "cell_type": "code",
   "execution_count": null,
   "id": "0e0c923f",
   "metadata": {},
   "outputs": [],
   "source": []
  },
  {
   "cell_type": "code",
   "execution_count": null,
   "id": "bf99882d",
   "metadata": {},
   "outputs": [],
   "source": []
  },
  {
   "cell_type": "code",
   "execution_count": null,
   "id": "b16a2180",
   "metadata": {},
   "outputs": [],
   "source": []
  }
 ],
 "metadata": {
  "kernelspec": {
   "display_name": "Python 3 (ipykernel)",
   "language": "python",
   "name": "python3"
  },
  "language_info": {
   "codemirror_mode": {
    "name": "ipython",
    "version": 3
   },
   "file_extension": ".py",
   "mimetype": "text/x-python",
   "name": "python",
   "nbconvert_exporter": "python",
   "pygments_lexer": "ipython3",
   "version": "3.11.5"
  }
 },
 "nbformat": 4,
 "nbformat_minor": 5
}
